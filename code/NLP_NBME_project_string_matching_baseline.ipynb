{
  "nbformat": 4,
  "nbformat_minor": 0,
  "metadata": {
    "colab": {
      "name": "NLP-NBME-project-string-matching-baseline.ipynb",
      "provenance": [],
      "collapsed_sections": []
    },
    "kernelspec": {
      "name": "python3",
      "display_name": "Python 3"
    },
    "language_info": {
      "name": "python"
    }
  },
  "cells": [
    {
      "cell_type": "markdown",
      "source": [
        "**Download Datasets**"
      ],
      "metadata": {
        "id": "bdPs-d6fWFm1"
      }
    },
    {
      "cell_type": "code",
      "execution_count": 87,
      "metadata": {
        "id": "4NBY96oVPpVB",
        "colab": {
          "base_uri": "https://localhost:8080/"
        },
        "outputId": "5f9e3fa0-5000-4ffa-a741-80303d5cb971"
      },
      "outputs": [
        {
          "output_type": "stream",
          "name": "stdout",
          "text": [
            "/content\n",
            "/content/project\n",
            "/content/project/input\n",
            "--2022-05-02 03:38:02--  https://github.com/Ameer-eng/nbme-score-clinical-patient-notes-files/raw/main/nbme-score-clinical-patient-notes.zip\n",
            "Resolving github.com (github.com)... 140.82.114.3\n",
            "Connecting to github.com (github.com)|140.82.114.3|:443... connected.\n",
            "HTTP request sent, awaiting response... 302 Found\n",
            "Location: https://raw.githubusercontent.com/Ameer-eng/nbme-score-clinical-patient-notes-files/main/nbme-score-clinical-patient-notes.zip [following]\n",
            "--2022-05-02 03:38:02--  https://raw.githubusercontent.com/Ameer-eng/nbme-score-clinical-patient-notes-files/main/nbme-score-clinical-patient-notes.zip\n",
            "Resolving raw.githubusercontent.com (raw.githubusercontent.com)... 185.199.111.133, 185.199.110.133, 185.199.109.133, ...\n",
            "Connecting to raw.githubusercontent.com (raw.githubusercontent.com)|185.199.111.133|:443... connected.\n",
            "HTTP request sent, awaiting response... 200 OK\n",
            "Length: 10305097 (9.8M) [application/zip]\n",
            "Saving to: ‘nbme-score-clinical-patient-notes.zip’\n",
            "\n",
            "nbme-score-clinical 100%[===================>]   9.83M  --.-KB/s    in 0.1s    \n",
            "\n",
            "2022-05-02 03:38:02 (71.6 MB/s) - ‘nbme-score-clinical-patient-notes.zip’ saved [10305097/10305097]\n",
            "\n",
            "Archive:  nbme-score-clinical-patient-notes.zip\n",
            "  inflating: nbme-score-clinical-patient-notes/features.csv  \n",
            "  inflating: nbme-score-clinical-patient-notes/patient_notes.csv  \n",
            "  inflating: nbme-score-clinical-patient-notes/sample_submission.csv  \n",
            "  inflating: nbme-score-clinical-patient-notes/test.csv  \n",
            "  inflating: nbme-score-clinical-patient-notes/train.csv  \n",
            "/content/project\n",
            "\u001b[0m\u001b[01;34minput\u001b[0m/\n"
          ]
        }
      ],
      "source": [
        "# ====================================================\n",
        "# Download datasets\n",
        "# ====================================================\n",
        "%cd /content\n",
        "%rm -r project\n",
        "%mkdir project\n",
        "%cd project\n",
        "%mkdir input\n",
        "%cd input\n",
        "!wget https://github.com/Ameer-eng/nbme-score-clinical-patient-notes-files/raw/main/nbme-score-clinical-patient-notes.zip\n",
        "!unzip nbme-score-clinical-patient-notes.zip -d nbme-score-clinical-patient-notes\n",
        "%cd ..\n",
        "%ls"
      ]
    },
    {
      "cell_type": "markdown",
      "source": [
        "**Library**"
      ],
      "metadata": {
        "id": "gP4FhSk7WeZQ"
      }
    },
    {
      "cell_type": "code",
      "source": [
        "import ast\n",
        "import numpy as np\n",
        "import pandas as pd\n",
        "from collections import Counter\n",
        "\n",
        "pd.options.display.max_colwidth = 200"
      ],
      "metadata": {
        "id": "tAVSMvtvPgX2"
      },
      "execution_count": 88,
      "outputs": []
    },
    {
      "cell_type": "markdown",
      "source": [
        "**Data**"
      ],
      "metadata": {
        "id": "VzKYDXdS3_Jo"
      }
    },
    {
      "cell_type": "code",
      "source": [
        "DATA_PATH = \"./input/nbme-score-clinical-patient-notes/\"\n",
        "\n",
        "patient_notes = pd.read_csv(DATA_PATH + \"patient_notes.csv\")\n",
        "features = pd.read_csv(DATA_PATH + \"features.csv\")\n",
        "df_train = pd.read_csv(DATA_PATH + \"train.csv\")\n",
        "display(patient_notes.shape)\n",
        "display(features.shape)\n",
        "display(df_train.shape)"
      ],
      "metadata": {
        "id": "gk1iVtdDPgeU",
        "colab": {
          "base_uri": "https://localhost:8080/",
          "height": 69
        },
        "outputId": "04d7c3ad-f4dc-4c07-a74b-906348051a63"
      },
      "execution_count": 89,
      "outputs": [
        {
          "output_type": "display_data",
          "data": {
            "text/plain": [
              "(42146, 3)"
            ]
          },
          "metadata": {}
        },
        {
          "output_type": "display_data",
          "data": {
            "text/plain": [
              "(143, 3)"
            ]
          },
          "metadata": {}
        },
        {
          "output_type": "display_data",
          "data": {
            "text/plain": [
              "(14300, 6)"
            ]
          },
          "metadata": {}
        }
      ]
    },
    {
      "cell_type": "code",
      "source": [
        "df_train[\"annotation\"][1]"
      ],
      "metadata": {
        "id": "h8FY46XjPgqM",
        "colab": {
          "base_uri": "https://localhost:8080/",
          "height": 35
        },
        "outputId": "cd65c980-2da5-44c9-9f9f-1d29e59e4195"
      },
      "execution_count": 90,
      "outputs": [
        {
          "output_type": "execute_result",
          "data": {
            "text/plain": [
              "'[\\'mom with \"thyroid disease\\']'"
            ],
            "application/vnd.google.colaboratory.intrinsic+json": {
              "type": "string"
            }
          },
          "metadata": {},
          "execution_count": 90
        }
      ]
    },
    {
      "cell_type": "code",
      "source": [
        "df_train[\"location\"][1]"
      ],
      "metadata": {
        "colab": {
          "base_uri": "https://localhost:8080/",
          "height": 35
        },
        "id": "p9XyUzSD5vgh",
        "outputId": "87658d11-2722-4dfc-cf11-494c33cce106"
      },
      "execution_count": 91,
      "outputs": [
        {
          "output_type": "execute_result",
          "data": {
            "text/plain": [
              "\"['668 693']\""
            ],
            "application/vnd.google.colaboratory.intrinsic+json": {
              "type": "string"
            }
          },
          "metadata": {},
          "execution_count": 91
        }
      ]
    },
    {
      "cell_type": "code",
      "source": [
        "# The annotations and locations are stored as strings representing python lists, so we must evaluate them.\n",
        "df_train['annotation'] = df_train['annotation'].apply(ast.literal_eval)\n",
        "df_train['location'] = df_train['location'].apply(ast.literal_eval)"
      ],
      "metadata": {
        "id": "QgMGwF316nq0"
      },
      "execution_count": 92,
      "outputs": []
    },
    {
      "cell_type": "code",
      "source": [
        "df_train = df_train.merge(features, on=['feature_num', 'case_num'], how='left')\n",
        "df_train = df_train.merge(patient_notes, on=['pn_num', 'case_num'], how='left')\n",
        "df_train.head()"
      ],
      "metadata": {
        "colab": {
          "base_uri": "https://localhost:8080/",
          "height": 511
        },
        "id": "psRSXyDv8kyh",
        "outputId": "62dca9e9-18e5-4c2c-8cd0-654e5b8e5dfb"
      },
      "execution_count": 93,
      "outputs": [
        {
          "output_type": "execute_result",
          "data": {
            "text/plain": [
              "          id  case_num  pn_num  feature_num  \\\n",
              "0  00016_000         0      16            0   \n",
              "1  00016_001         0      16            1   \n",
              "2  00016_002         0      16            2   \n",
              "3  00016_003         0      16            3   \n",
              "4  00016_004         0      16            4   \n",
              "\n",
              "                               annotation          location  \\\n",
              "0          [dad with recent heart attcak]         [696 724]   \n",
              "1             [mom with \"thyroid disease]         [668 693]   \n",
              "2                        [chest pressure]         [203 217]   \n",
              "3        [intermittent episodes, episode]  [70 91, 176 183]   \n",
              "4  [felt as if he were going to pass out]         [222 258]   \n",
              "\n",
              "                                                      feature_text  \\\n",
              "0  Family-history-of-MI-OR-Family-history-of-myocardial-infarction   \n",
              "1                               Family-history-of-thyroid-disorder   \n",
              "2                                                   Chest-pressure   \n",
              "3                                            Intermittent-symptoms   \n",
              "4                                                      Lightheaded   \n",
              "\n",
              "                                                                                                                                                                                                pn_history  \n",
              "0  HPI: 17yo M presents with palpitations. Patient reports 3-4 months of intermittent episodes of \"heart beating/pounding out of my chest.\" 2 days ago during a soccer game had an episode, but this ti...  \n",
              "1  HPI: 17yo M presents with palpitations. Patient reports 3-4 months of intermittent episodes of \"heart beating/pounding out of my chest.\" 2 days ago during a soccer game had an episode, but this ti...  \n",
              "2  HPI: 17yo M presents with palpitations. Patient reports 3-4 months of intermittent episodes of \"heart beating/pounding out of my chest.\" 2 days ago during a soccer game had an episode, but this ti...  \n",
              "3  HPI: 17yo M presents with palpitations. Patient reports 3-4 months of intermittent episodes of \"heart beating/pounding out of my chest.\" 2 days ago during a soccer game had an episode, but this ti...  \n",
              "4  HPI: 17yo M presents with palpitations. Patient reports 3-4 months of intermittent episodes of \"heart beating/pounding out of my chest.\" 2 days ago during a soccer game had an episode, but this ti...  "
            ],
            "text/html": [
              "\n",
              "  <div id=\"df-d8d7080c-cd7e-4351-8e8c-80ab63f8ed0e\">\n",
              "    <div class=\"colab-df-container\">\n",
              "      <div>\n",
              "<style scoped>\n",
              "    .dataframe tbody tr th:only-of-type {\n",
              "        vertical-align: middle;\n",
              "    }\n",
              "\n",
              "    .dataframe tbody tr th {\n",
              "        vertical-align: top;\n",
              "    }\n",
              "\n",
              "    .dataframe thead th {\n",
              "        text-align: right;\n",
              "    }\n",
              "</style>\n",
              "<table border=\"1\" class=\"dataframe\">\n",
              "  <thead>\n",
              "    <tr style=\"text-align: right;\">\n",
              "      <th></th>\n",
              "      <th>id</th>\n",
              "      <th>case_num</th>\n",
              "      <th>pn_num</th>\n",
              "      <th>feature_num</th>\n",
              "      <th>annotation</th>\n",
              "      <th>location</th>\n",
              "      <th>feature_text</th>\n",
              "      <th>pn_history</th>\n",
              "    </tr>\n",
              "  </thead>\n",
              "  <tbody>\n",
              "    <tr>\n",
              "      <th>0</th>\n",
              "      <td>00016_000</td>\n",
              "      <td>0</td>\n",
              "      <td>16</td>\n",
              "      <td>0</td>\n",
              "      <td>[dad with recent heart attcak]</td>\n",
              "      <td>[696 724]</td>\n",
              "      <td>Family-history-of-MI-OR-Family-history-of-myocardial-infarction</td>\n",
              "      <td>HPI: 17yo M presents with palpitations. Patient reports 3-4 months of intermittent episodes of \"heart beating/pounding out of my chest.\" 2 days ago during a soccer game had an episode, but this ti...</td>\n",
              "    </tr>\n",
              "    <tr>\n",
              "      <th>1</th>\n",
              "      <td>00016_001</td>\n",
              "      <td>0</td>\n",
              "      <td>16</td>\n",
              "      <td>1</td>\n",
              "      <td>[mom with \"thyroid disease]</td>\n",
              "      <td>[668 693]</td>\n",
              "      <td>Family-history-of-thyroid-disorder</td>\n",
              "      <td>HPI: 17yo M presents with palpitations. Patient reports 3-4 months of intermittent episodes of \"heart beating/pounding out of my chest.\" 2 days ago during a soccer game had an episode, but this ti...</td>\n",
              "    </tr>\n",
              "    <tr>\n",
              "      <th>2</th>\n",
              "      <td>00016_002</td>\n",
              "      <td>0</td>\n",
              "      <td>16</td>\n",
              "      <td>2</td>\n",
              "      <td>[chest pressure]</td>\n",
              "      <td>[203 217]</td>\n",
              "      <td>Chest-pressure</td>\n",
              "      <td>HPI: 17yo M presents with palpitations. Patient reports 3-4 months of intermittent episodes of \"heart beating/pounding out of my chest.\" 2 days ago during a soccer game had an episode, but this ti...</td>\n",
              "    </tr>\n",
              "    <tr>\n",
              "      <th>3</th>\n",
              "      <td>00016_003</td>\n",
              "      <td>0</td>\n",
              "      <td>16</td>\n",
              "      <td>3</td>\n",
              "      <td>[intermittent episodes, episode]</td>\n",
              "      <td>[70 91, 176 183]</td>\n",
              "      <td>Intermittent-symptoms</td>\n",
              "      <td>HPI: 17yo M presents with palpitations. Patient reports 3-4 months of intermittent episodes of \"heart beating/pounding out of my chest.\" 2 days ago during a soccer game had an episode, but this ti...</td>\n",
              "    </tr>\n",
              "    <tr>\n",
              "      <th>4</th>\n",
              "      <td>00016_004</td>\n",
              "      <td>0</td>\n",
              "      <td>16</td>\n",
              "      <td>4</td>\n",
              "      <td>[felt as if he were going to pass out]</td>\n",
              "      <td>[222 258]</td>\n",
              "      <td>Lightheaded</td>\n",
              "      <td>HPI: 17yo M presents with palpitations. Patient reports 3-4 months of intermittent episodes of \"heart beating/pounding out of my chest.\" 2 days ago during a soccer game had an episode, but this ti...</td>\n",
              "    </tr>\n",
              "  </tbody>\n",
              "</table>\n",
              "</div>\n",
              "      <button class=\"colab-df-convert\" onclick=\"convertToInteractive('df-d8d7080c-cd7e-4351-8e8c-80ab63f8ed0e')\"\n",
              "              title=\"Convert this dataframe to an interactive table.\"\n",
              "              style=\"display:none;\">\n",
              "        \n",
              "  <svg xmlns=\"http://www.w3.org/2000/svg\" height=\"24px\"viewBox=\"0 0 24 24\"\n",
              "       width=\"24px\">\n",
              "    <path d=\"M0 0h24v24H0V0z\" fill=\"none\"/>\n",
              "    <path d=\"M18.56 5.44l.94 2.06.94-2.06 2.06-.94-2.06-.94-.94-2.06-.94 2.06-2.06.94zm-11 1L8.5 8.5l.94-2.06 2.06-.94-2.06-.94L8.5 2.5l-.94 2.06-2.06.94zm10 10l.94 2.06.94-2.06 2.06-.94-2.06-.94-.94-2.06-.94 2.06-2.06.94z\"/><path d=\"M17.41 7.96l-1.37-1.37c-.4-.4-.92-.59-1.43-.59-.52 0-1.04.2-1.43.59L10.3 9.45l-7.72 7.72c-.78.78-.78 2.05 0 2.83L4 21.41c.39.39.9.59 1.41.59.51 0 1.02-.2 1.41-.59l7.78-7.78 2.81-2.81c.8-.78.8-2.07 0-2.86zM5.41 20L4 18.59l7.72-7.72 1.47 1.35L5.41 20z\"/>\n",
              "  </svg>\n",
              "      </button>\n",
              "      \n",
              "  <style>\n",
              "    .colab-df-container {\n",
              "      display:flex;\n",
              "      flex-wrap:wrap;\n",
              "      gap: 12px;\n",
              "    }\n",
              "\n",
              "    .colab-df-convert {\n",
              "      background-color: #E8F0FE;\n",
              "      border: none;\n",
              "      border-radius: 50%;\n",
              "      cursor: pointer;\n",
              "      display: none;\n",
              "      fill: #1967D2;\n",
              "      height: 32px;\n",
              "      padding: 0 0 0 0;\n",
              "      width: 32px;\n",
              "    }\n",
              "\n",
              "    .colab-df-convert:hover {\n",
              "      background-color: #E2EBFA;\n",
              "      box-shadow: 0px 1px 2px rgba(60, 64, 67, 0.3), 0px 1px 3px 1px rgba(60, 64, 67, 0.15);\n",
              "      fill: #174EA6;\n",
              "    }\n",
              "\n",
              "    [theme=dark] .colab-df-convert {\n",
              "      background-color: #3B4455;\n",
              "      fill: #D2E3FC;\n",
              "    }\n",
              "\n",
              "    [theme=dark] .colab-df-convert:hover {\n",
              "      background-color: #434B5C;\n",
              "      box-shadow: 0px 1px 3px 1px rgba(0, 0, 0, 0.15);\n",
              "      filter: drop-shadow(0px 1px 2px rgba(0, 0, 0, 0.3));\n",
              "      fill: #FFFFFF;\n",
              "    }\n",
              "  </style>\n",
              "\n",
              "      <script>\n",
              "        const buttonEl =\n",
              "          document.querySelector('#df-d8d7080c-cd7e-4351-8e8c-80ab63f8ed0e button.colab-df-convert');\n",
              "        buttonEl.style.display =\n",
              "          google.colab.kernel.accessAllowed ? 'block' : 'none';\n",
              "\n",
              "        async function convertToInteractive(key) {\n",
              "          const element = document.querySelector('#df-d8d7080c-cd7e-4351-8e8c-80ab63f8ed0e');\n",
              "          const dataTable =\n",
              "            await google.colab.kernel.invokeFunction('convertToInteractive',\n",
              "                                                     [key], {});\n",
              "          if (!dataTable) return;\n",
              "\n",
              "          const docLinkHtml = 'Like what you see? Visit the ' +\n",
              "            '<a target=\"_blank\" href=https://colab.research.google.com/notebooks/data_table.ipynb>data table notebook</a>'\n",
              "            + ' to learn more about interactive tables.';\n",
              "          element.innerHTML = '';\n",
              "          dataTable['output_type'] = 'display_data';\n",
              "          await google.colab.output.renderOutput(dataTable, element);\n",
              "          const docLink = document.createElement('div');\n",
              "          docLink.innerHTML = docLinkHtml;\n",
              "          element.appendChild(docLink);\n",
              "        }\n",
              "      </script>\n",
              "    </div>\n",
              "  </div>\n",
              "  "
            ]
          },
          "metadata": {},
          "execution_count": 93
        }
      ]
    },
    {
      "cell_type": "markdown",
      "source": [
        "**CV Split**"
      ],
      "metadata": {
        "id": "lkMkAlXEMwvS"
      }
    },
    {
      "cell_type": "code",
      "source": [
        "from sklearn.model_selection import StratifiedKFold, GroupKFold\n",
        "K = 5\n",
        "Fold = GroupKFold(n_splits=K)\n",
        "groups = df_train['pn_num'].values\n",
        "for n, (train_index, val_index) in enumerate(Fold.split(df_train, df_train['location'], groups)):\n",
        "    df_train.loc[val_index, 'fold'] = int(n)\n",
        "df_train['fold'] = df_train['fold'].astype(int)\n",
        "display(df_train.groupby('fold').size())"
      ],
      "metadata": {
        "id": "5YHZz_Qh8dQ9",
        "colab": {
          "base_uri": "https://localhost:8080/",
          "height": 139
        },
        "outputId": "8d6e36ae-0994-4e6c-87bd-861ad21d4e6f"
      },
      "execution_count": 94,
      "outputs": [
        {
          "output_type": "display_data",
          "data": {
            "text/plain": [
              "fold\n",
              "0    2860\n",
              "1    2860\n",
              "2    2860\n",
              "3    2860\n",
              "4    2860\n",
              "dtype: int64"
            ]
          },
          "metadata": {}
        }
      ]
    },
    {
      "cell_type": "markdown",
      "source": [
        "**Helper Functions for Scoring**"
      ],
      "metadata": {
        "id": "aw0zpyYCQ44x"
      }
    },
    {
      "cell_type": "code",
      "source": [
        "from sklearn.metrics import f1_score\n",
        "\n",
        "def micro_f1(preds, truths):\n",
        "    \"\"\"\n",
        "    Micro f1 on binary arrays.\n",
        "\n",
        "    Args:\n",
        "        preds (list of lists of ints): Predictions.\n",
        "        truths (list of lists of ints): Ground truths.\n",
        "\n",
        "    Returns:\n",
        "        float: f1 score.\n",
        "    \"\"\"\n",
        "    # Micro : aggregating over all instances\n",
        "    preds = np.concatenate(preds)\n",
        "    truths = np.concatenate(truths)\n",
        "    \n",
        "    return f1_score(truths, preds)"
      ],
      "metadata": {
        "id": "9Y_zflBhK0J4"
      },
      "execution_count": 95,
      "outputs": []
    },
    {
      "cell_type": "code",
      "source": [
        "def spans_to_binary(spans, length=None):\n",
        "    \"\"\"\n",
        "    Converts spans to a binary array indicating whether each character is in the span.\n",
        "\n",
        "    Args:\n",
        "        spans (list of lists of two ints): Spans.\n",
        "\n",
        "    Returns:\n",
        "        np array [length]: Binarized spans.\n",
        "    \"\"\"\n",
        "    length = np.max(spans) if length is None else length\n",
        "    binary = np.zeros(length)\n",
        "    for start, end in spans:\n",
        "        binary[start:end] = 1\n",
        "    \n",
        "    return binary"
      ],
      "metadata": {
        "id": "KSWHlslMMHMp"
      },
      "execution_count": 96,
      "outputs": []
    },
    {
      "cell_type": "code",
      "source": [
        "spans_to_binary([[0, 5], [10, 15]])"
      ],
      "metadata": {
        "colab": {
          "base_uri": "https://localhost:8080/"
        },
        "id": "Dog48Nr2MXJI",
        "outputId": "69b95455-9d91-4225-c58a-c626ec701c7e"
      },
      "execution_count": 97,
      "outputs": [
        {
          "output_type": "execute_result",
          "data": {
            "text/plain": [
              "array([1., 1., 1., 1., 1., 0., 0., 0., 0., 0., 1., 1., 1., 1., 1.])"
            ]
          },
          "metadata": {},
          "execution_count": 97
        }
      ]
    },
    {
      "cell_type": "code",
      "source": [
        "def span_micro_f1(preds, truths):\n",
        "    \"\"\"\n",
        "    Micro f1 on spans.\n",
        "\n",
        "    Args:\n",
        "        preds (list of lists of two ints): Prediction spans.\n",
        "        truths (list of lists of two ints): Ground truth spans.\n",
        "\n",
        "    Returns:\n",
        "        float: f1 score.\n",
        "    \"\"\"\n",
        "        \n",
        "    bin_preds = []\n",
        "    bin_truths = []\n",
        "    \n",
        "    for pred, truth in zip(preds, truths):\n",
        "        if not len(pred) and not len(truth):\n",
        "            continue\n",
        "\n",
        "        length = max(np.max(pred) if len(pred) else 0, np.max(truth) if len(truth) else 0)\n",
        "        bin_preds.append(spans_to_binary(pred, length))\n",
        "        bin_truths.append(spans_to_binary(truth, length))\n",
        "        \n",
        "    return micro_f1(bin_preds, bin_truths)"
      ],
      "metadata": {
        "id": "pn4Mb-MAMpFR"
      },
      "execution_count": 98,
      "outputs": []
    },
    {
      "cell_type": "code",
      "source": [
        "def location_to_span(location):\n",
        "    spans = []\n",
        "    for loc in location:\n",
        "        if \";\" in loc:\n",
        "            loc = loc.split(';')\n",
        "        else:\n",
        "            loc = [loc]\n",
        "        \n",
        "        for l in loc:\n",
        "            spans.append(list(np.array(l.split(' ')).astype(int)))\n",
        "    \n",
        "    return spans"
      ],
      "metadata": {
        "id": "nywLEFpjh7M4"
      },
      "execution_count": 99,
      "outputs": []
    },
    {
      "cell_type": "code",
      "source": [
        "df_train['span'] = df_train['location'].apply(location_to_span)\n",
        "spans = df_train['span'].tolist()[:100]\n",
        "\n",
        "pred = spans\n",
        "truth = [span[:2] for span in spans]\n",
        "\n",
        "print(pred)\n",
        "print(truth)"
      ],
      "metadata": {
        "colab": {
          "base_uri": "https://localhost:8080/"
        },
        "id": "4RdilaJ4NYKv",
        "outputId": "577cd9cf-a777-4789-fb44-1b693bb506f8"
      },
      "execution_count": 100,
      "outputs": [
        {
          "output_type": "stream",
          "name": "stdout",
          "text": [
            "[[[696, 724]], [[668, 693]], [[203, 217]], [[70, 91], [176, 183]], [[222, 258]], [], [[321, 329], [404, 413], [652, 661]], [], [], [[26, 38], [96, 118]], [[56, 69]], [[5, 9]], [[10, 11]], [], [[532, 556]], [[263, 284]], [[131, 145], [150, 168]], [], [], [], [[258, 261]], [], [[32, 46]], [[48, 66]], [[0, 6]], [[7, 8]], [[824, 844]], [[803, 822]], [], [[184, 196]], [[552, 568]], [[582, 619]], [[380, 388], [730, 738]], [[573, 576]], [], [[146, 158], [436, 448], [478, 490]], [[197, 211]], [[19, 23]], [[24, 25]], [[622, 631]], [[633, 652]], [], [[76, 84], [171, 180]], [[254, 270]], [], [[389, 396]], [[284, 303]], [], [[85, 99], [126, 138], [126, 131], [143, 151]], [[64, 75], [187, 209]], [[0, 5]], [[6, 7]], [[735, 741]], [[714, 733]], [[310, 324]], [[247, 256]], [[292, 308]], [], [[595, 603]], [], [], [[87, 101], [372, 386]], [[111, 121], [267, 277]], [[46, 57]], [[58, 62]], [[601, 620]], [[571, 599]], [[258, 277]], [[149, 161]], [], [], [], [[226, 240]], [], [[46, 57]], [[125, 135]], [[0, 6]], [[7, 8]], [[716, 735]], [[692, 714]], [[250, 264]], [[93, 101], [284, 292]], [], [], [[457, 463], [507, 513], [655, 661]], [], [], [[51, 65], [105, 119], [577, 589]], [[120, 143]], [[0, 5]], [[6, 7]], [[682, 688], [695, 697]], [[665, 680], [652, 680]], [[411, 425]], [[226, 234]], [[374, 385]], [[462, 468], [473, 481]], [[595, 603]], [[387, 402]], []]\n",
            "[[[696, 724]], [[668, 693]], [[203, 217]], [[70, 91], [176, 183]], [[222, 258]], [], [[321, 329], [404, 413]], [], [], [[26, 38], [96, 118]], [[56, 69]], [[5, 9]], [[10, 11]], [], [[532, 556]], [[263, 284]], [[131, 145], [150, 168]], [], [], [], [[258, 261]], [], [[32, 46]], [[48, 66]], [[0, 6]], [[7, 8]], [[824, 844]], [[803, 822]], [], [[184, 196]], [[552, 568]], [[582, 619]], [[380, 388], [730, 738]], [[573, 576]], [], [[146, 158], [436, 448]], [[197, 211]], [[19, 23]], [[24, 25]], [[622, 631]], [[633, 652]], [], [[76, 84], [171, 180]], [[254, 270]], [], [[389, 396]], [[284, 303]], [], [[85, 99], [126, 138]], [[64, 75], [187, 209]], [[0, 5]], [[6, 7]], [[735, 741]], [[714, 733]], [[310, 324]], [[247, 256]], [[292, 308]], [], [[595, 603]], [], [], [[87, 101], [372, 386]], [[111, 121], [267, 277]], [[46, 57]], [[58, 62]], [[601, 620]], [[571, 599]], [[258, 277]], [[149, 161]], [], [], [], [[226, 240]], [], [[46, 57]], [[125, 135]], [[0, 6]], [[7, 8]], [[716, 735]], [[692, 714]], [[250, 264]], [[93, 101], [284, 292]], [], [], [[457, 463], [507, 513]], [], [], [[51, 65], [105, 119]], [[120, 143]], [[0, 5]], [[6, 7]], [[682, 688], [695, 697]], [[665, 680], [652, 680]], [[411, 425]], [[226, 234]], [[374, 385]], [[462, 468], [473, 481]], [[595, 603]], [[387, 402]], []]\n"
          ]
        }
      ]
    },
    {
      "cell_type": "code",
      "source": [
        "span_micro_f1(pred, truth)"
      ],
      "metadata": {
        "colab": {
          "base_uri": "https://localhost:8080/"
        },
        "id": "REoXFvmhQdqa",
        "outputId": "6d58f34a-e44d-466a-9d1b-0e7bb0183100"
      },
      "execution_count": 101,
      "outputs": [
        {
          "output_type": "execute_result",
          "data": {
            "text/plain": [
              "0.9797675419715884"
            ]
          },
          "metadata": {},
          "execution_count": 101
        }
      ]
    },
    {
      "cell_type": "code",
      "source": [
        "def find_all(a_str, sub):\n",
        "    start = 0\n",
        "    while True:\n",
        "        start = a_str.find(sub, start)\n",
        "        if start == -1: return\n",
        "        yield start\n",
        "        start += len(sub) # use start += 1 to find overlapping matches\n",
        "\n",
        "list(find_all('spam spam spam spam', 'spam')) # [0, 5, 10, 15]"
      ],
      "metadata": {
        "colab": {
          "base_uri": "https://localhost:8080/"
        },
        "id": "so9tzI-iYPSc",
        "outputId": "9fd3d572-cacb-4918-9da2-6352ecd2d51b"
      },
      "execution_count": 102,
      "outputs": [
        {
          "output_type": "execute_result",
          "data": {
            "text/plain": [
              "[0, 5, 10, 15]"
            ]
          },
          "metadata": {},
          "execution_count": 102
        }
      ]
    },
    {
      "cell_type": "code",
      "source": [
        "scores = []\n",
        "for fold in range(K):\n",
        "    \n",
        "    print(f\"\\n-------------   Fold {fold + 1} / {K}  -------------\\n\")\n",
        "    \n",
        "    df_train_set = df_train[df_train['fold'] != fold].reset_index(drop=True)\n",
        "    df_val_set = df_train[df_train['fold'] == fold].reset_index(drop=True)\n",
        "    \n",
        "    matching_dict = df_train_set[['case_num', 'feature_num', 'annotation']].groupby(['case_num', 'feature_num']).agg(list).T.to_dict()\n",
        "    matching_dict = {k: np.concatenate(v['annotation']) for k, v in matching_dict.items()}\n",
        "    matching_dict = {k: np.unique([v_.lower() for v_ in v]) for k, v in matching_dict.items()}\n",
        "    \n",
        "    preds = []\n",
        "    for i in range(len(df_val_set)):\n",
        "        key = (df_val_set['case_num'][i], df_val_set['feature_num'][i])\n",
        "\n",
        "        candidates = matching_dict[key]\n",
        "\n",
        "        text = df_val_set['pn_history'][i].lower()\n",
        "\n",
        "        spans = []\n",
        "        #for c in candidates:\n",
        "         # indices = find_all(text, c)\n",
        "          #for i in indices:\n",
        "           # spans.append([i, i + len(c)])\n",
        "\n",
        "        for c in candidates:\n",
        "            start = text.find(c)\n",
        "            if start > -1:\n",
        "                spans.append([start, start + len(c)])\n",
        "        preds.append(spans)\n",
        "        \n",
        "    score = span_micro_f1(preds, df_val_set['span'])\n",
        "    scores.append(score)\n",
        "    print(f\"-> F1 score: {score :.3f}\")\n",
        "\n",
        "print(f\"CV F1 score: {sum(scores) / len(scores) :.3f}\")"
      ],
      "metadata": {
        "colab": {
          "base_uri": "https://localhost:8080/"
        },
        "id": "qidvFZCMTgeo",
        "outputId": "a30b1941-9a29-48a3-d180-434ad35b6a44"
      },
      "execution_count": 103,
      "outputs": [
        {
          "output_type": "stream",
          "name": "stdout",
          "text": [
            "\n",
            "-------------   Fold 1 / 5  -------------\n",
            "\n",
            "-> F1 score: 0.576\n",
            "\n",
            "-------------   Fold 2 / 5  -------------\n",
            "\n",
            "-> F1 score: 0.596\n",
            "\n",
            "-------------   Fold 3 / 5  -------------\n",
            "\n",
            "-> F1 score: 0.575\n",
            "\n",
            "-------------   Fold 4 / 5  -------------\n",
            "\n",
            "-> F1 score: 0.589\n",
            "\n",
            "-------------   Fold 5 / 5  -------------\n",
            "\n",
            "-> F1 score: 0.577\n",
            "CV F1 score: 0.583\n"
          ]
        }
      ]
    },
    {
      "cell_type": "markdown",
      "source": [
        "**Inference on test data**"
      ],
      "metadata": {
        "id": "WVKVIu2SPVEr"
      }
    },
    {
      "cell_type": "code",
      "source": [
        "df_test = pd.read_csv(DATA_PATH + \"test.csv\")\n",
        "df_test = df_test.merge(features, on=['feature_num', 'case_num'], how='left')\n",
        "df_test = df_test.merge(patient_notes, on=['pn_num', 'case_num'], how='left')\n",
        "\n",
        "matching_dict = df_train[['case_num', 'feature_num', 'annotation']].groupby(['case_num', 'feature_num']).agg(list).T.to_dict()\n",
        "matching_dict = {k: np.concatenate(v['annotation']) for k, v in matching_dict.items()}\n",
        "matching_dict = {k: np.unique([v_.lower() for v_ in v]) for k, v in matching_dict.items()}\n",
        "\n",
        "preds = []\n",
        "for i in range(len(df_test)):\n",
        "    key = (df_test['case_num'][i], df_test['feature_num'][i])\n",
        "\n",
        "    candidates = matching_dict[key]\n",
        "\n",
        "    text = df_test['pn_history'][i].lower()\n",
        "\n",
        "    spans = []\n",
        "    for c in candidates:\n",
        "      indices = find_all(text, c)\n",
        "      for i in indices:\n",
        "          spans.append([i, i + len(c)])\n",
        "\n",
        "    #for c in candidates:\n",
        "     #   start = text.find(c)\n",
        "      #  if start > -1:\n",
        "       #     spans.append([start, start + len(c)])\n",
        "    preds.append(spans)"
      ],
      "metadata": {
        "id": "J6QluebgT-7B"
      },
      "execution_count": 104,
      "outputs": []
    },
    {
      "cell_type": "code",
      "source": [
        "def preds_to_location(preds):\n",
        "    locations = []\n",
        "    for pred in preds:\n",
        "        loc = \";\".join([\" \".join(np.array(p).astype(str)) for p in pred])\n",
        "        locations.append(loc)\n",
        "    return locations"
      ],
      "metadata": {
        "id": "kL6Ku1VBQBQY"
      },
      "execution_count": 105,
      "outputs": []
    },
    {
      "cell_type": "code",
      "source": [
        "sub = pd.read_csv(DATA_PATH + 'sample_submission.csv')\n",
        "sub['location'] = preds_to_location(preds)\n",
        "\n",
        "sub.to_csv('submission.csv', index=False)\n",
        "sub"
      ],
      "metadata": {
        "colab": {
          "base_uri": "https://localhost:8080/",
          "height": 206
        },
        "id": "rhKfuGgAQCpu",
        "outputId": "c1e784bd-89cc-4c2b-a764-39ae8c0c72d0"
      },
      "execution_count": 106,
      "outputs": [
        {
          "output_type": "execute_result",
          "data": {
            "text/plain": [
              "          id                         location\n",
              "0  00016_000                          696 724\n",
              "1  00016_001                          668 693\n",
              "2  00016_002                  203 217;209 217\n",
              "3  00016_003  83 90;176 183;83 91;70 82;70 91\n",
              "4  00016_004                          222 258"
            ],
            "text/html": [
              "\n",
              "  <div id=\"df-e9e5abb4-093a-4f31-96ac-bb560a8b02c5\">\n",
              "    <div class=\"colab-df-container\">\n",
              "      <div>\n",
              "<style scoped>\n",
              "    .dataframe tbody tr th:only-of-type {\n",
              "        vertical-align: middle;\n",
              "    }\n",
              "\n",
              "    .dataframe tbody tr th {\n",
              "        vertical-align: top;\n",
              "    }\n",
              "\n",
              "    .dataframe thead th {\n",
              "        text-align: right;\n",
              "    }\n",
              "</style>\n",
              "<table border=\"1\" class=\"dataframe\">\n",
              "  <thead>\n",
              "    <tr style=\"text-align: right;\">\n",
              "      <th></th>\n",
              "      <th>id</th>\n",
              "      <th>location</th>\n",
              "    </tr>\n",
              "  </thead>\n",
              "  <tbody>\n",
              "    <tr>\n",
              "      <th>0</th>\n",
              "      <td>00016_000</td>\n",
              "      <td>696 724</td>\n",
              "    </tr>\n",
              "    <tr>\n",
              "      <th>1</th>\n",
              "      <td>00016_001</td>\n",
              "      <td>668 693</td>\n",
              "    </tr>\n",
              "    <tr>\n",
              "      <th>2</th>\n",
              "      <td>00016_002</td>\n",
              "      <td>203 217;209 217</td>\n",
              "    </tr>\n",
              "    <tr>\n",
              "      <th>3</th>\n",
              "      <td>00016_003</td>\n",
              "      <td>83 90;176 183;83 91;70 82;70 91</td>\n",
              "    </tr>\n",
              "    <tr>\n",
              "      <th>4</th>\n",
              "      <td>00016_004</td>\n",
              "      <td>222 258</td>\n",
              "    </tr>\n",
              "  </tbody>\n",
              "</table>\n",
              "</div>\n",
              "      <button class=\"colab-df-convert\" onclick=\"convertToInteractive('df-e9e5abb4-093a-4f31-96ac-bb560a8b02c5')\"\n",
              "              title=\"Convert this dataframe to an interactive table.\"\n",
              "              style=\"display:none;\">\n",
              "        \n",
              "  <svg xmlns=\"http://www.w3.org/2000/svg\" height=\"24px\"viewBox=\"0 0 24 24\"\n",
              "       width=\"24px\">\n",
              "    <path d=\"M0 0h24v24H0V0z\" fill=\"none\"/>\n",
              "    <path d=\"M18.56 5.44l.94 2.06.94-2.06 2.06-.94-2.06-.94-.94-2.06-.94 2.06-2.06.94zm-11 1L8.5 8.5l.94-2.06 2.06-.94-2.06-.94L8.5 2.5l-.94 2.06-2.06.94zm10 10l.94 2.06.94-2.06 2.06-.94-2.06-.94-.94-2.06-.94 2.06-2.06.94z\"/><path d=\"M17.41 7.96l-1.37-1.37c-.4-.4-.92-.59-1.43-.59-.52 0-1.04.2-1.43.59L10.3 9.45l-7.72 7.72c-.78.78-.78 2.05 0 2.83L4 21.41c.39.39.9.59 1.41.59.51 0 1.02-.2 1.41-.59l7.78-7.78 2.81-2.81c.8-.78.8-2.07 0-2.86zM5.41 20L4 18.59l7.72-7.72 1.47 1.35L5.41 20z\"/>\n",
              "  </svg>\n",
              "      </button>\n",
              "      \n",
              "  <style>\n",
              "    .colab-df-container {\n",
              "      display:flex;\n",
              "      flex-wrap:wrap;\n",
              "      gap: 12px;\n",
              "    }\n",
              "\n",
              "    .colab-df-convert {\n",
              "      background-color: #E8F0FE;\n",
              "      border: none;\n",
              "      border-radius: 50%;\n",
              "      cursor: pointer;\n",
              "      display: none;\n",
              "      fill: #1967D2;\n",
              "      height: 32px;\n",
              "      padding: 0 0 0 0;\n",
              "      width: 32px;\n",
              "    }\n",
              "\n",
              "    .colab-df-convert:hover {\n",
              "      background-color: #E2EBFA;\n",
              "      box-shadow: 0px 1px 2px rgba(60, 64, 67, 0.3), 0px 1px 3px 1px rgba(60, 64, 67, 0.15);\n",
              "      fill: #174EA6;\n",
              "    }\n",
              "\n",
              "    [theme=dark] .colab-df-convert {\n",
              "      background-color: #3B4455;\n",
              "      fill: #D2E3FC;\n",
              "    }\n",
              "\n",
              "    [theme=dark] .colab-df-convert:hover {\n",
              "      background-color: #434B5C;\n",
              "      box-shadow: 0px 1px 3px 1px rgba(0, 0, 0, 0.15);\n",
              "      filter: drop-shadow(0px 1px 2px rgba(0, 0, 0, 0.3));\n",
              "      fill: #FFFFFF;\n",
              "    }\n",
              "  </style>\n",
              "\n",
              "      <script>\n",
              "        const buttonEl =\n",
              "          document.querySelector('#df-e9e5abb4-093a-4f31-96ac-bb560a8b02c5 button.colab-df-convert');\n",
              "        buttonEl.style.display =\n",
              "          google.colab.kernel.accessAllowed ? 'block' : 'none';\n",
              "\n",
              "        async function convertToInteractive(key) {\n",
              "          const element = document.querySelector('#df-e9e5abb4-093a-4f31-96ac-bb560a8b02c5');\n",
              "          const dataTable =\n",
              "            await google.colab.kernel.invokeFunction('convertToInteractive',\n",
              "                                                     [key], {});\n",
              "          if (!dataTable) return;\n",
              "\n",
              "          const docLinkHtml = 'Like what you see? Visit the ' +\n",
              "            '<a target=\"_blank\" href=https://colab.research.google.com/notebooks/data_table.ipynb>data table notebook</a>'\n",
              "            + ' to learn more about interactive tables.';\n",
              "          element.innerHTML = '';\n",
              "          dataTable['output_type'] = 'display_data';\n",
              "          await google.colab.output.renderOutput(dataTable, element);\n",
              "          const docLink = document.createElement('div');\n",
              "          docLink.innerHTML = docLinkHtml;\n",
              "          element.appendChild(docLink);\n",
              "        }\n",
              "      </script>\n",
              "    </div>\n",
              "  </div>\n",
              "  "
            ]
          },
          "metadata": {},
          "execution_count": 106
        }
      ]
    },
    {
      "cell_type": "code",
      "source": [
        "display(df_test)"
      ],
      "metadata": {
        "colab": {
          "base_uri": "https://localhost:8080/",
          "height": 424
        },
        "id": "SIHcnF0CkqmY",
        "outputId": "3070d97d-c28a-4dbd-9fd9-e75572799dc6"
      },
      "execution_count": 107,
      "outputs": [
        {
          "output_type": "display_data",
          "data": {
            "text/plain": [
              "          id  case_num  pn_num  feature_num  \\\n",
              "0  00016_000         0      16            0   \n",
              "1  00016_001         0      16            1   \n",
              "2  00016_002         0      16            2   \n",
              "3  00016_003         0      16            3   \n",
              "4  00016_004         0      16            4   \n",
              "\n",
              "                                                      feature_text  \\\n",
              "0  Family-history-of-MI-OR-Family-history-of-myocardial-infarction   \n",
              "1                               Family-history-of-thyroid-disorder   \n",
              "2                                                   Chest-pressure   \n",
              "3                                            Intermittent-symptoms   \n",
              "4                                                      Lightheaded   \n",
              "\n",
              "                                                                                                                                                                                                pn_history  \n",
              "0  HPI: 17yo M presents with palpitations. Patient reports 3-4 months of intermittent episodes of \"heart beating/pounding out of my chest.\" 2 days ago during a soccer game had an episode, but this ti...  \n",
              "1  HPI: 17yo M presents with palpitations. Patient reports 3-4 months of intermittent episodes of \"heart beating/pounding out of my chest.\" 2 days ago during a soccer game had an episode, but this ti...  \n",
              "2  HPI: 17yo M presents with palpitations. Patient reports 3-4 months of intermittent episodes of \"heart beating/pounding out of my chest.\" 2 days ago during a soccer game had an episode, but this ti...  \n",
              "3  HPI: 17yo M presents with palpitations. Patient reports 3-4 months of intermittent episodes of \"heart beating/pounding out of my chest.\" 2 days ago during a soccer game had an episode, but this ti...  \n",
              "4  HPI: 17yo M presents with palpitations. Patient reports 3-4 months of intermittent episodes of \"heart beating/pounding out of my chest.\" 2 days ago during a soccer game had an episode, but this ti...  "
            ],
            "text/html": [
              "\n",
              "  <div id=\"df-a646805e-ab3a-428c-8281-bc4567098ad3\">\n",
              "    <div class=\"colab-df-container\">\n",
              "      <div>\n",
              "<style scoped>\n",
              "    .dataframe tbody tr th:only-of-type {\n",
              "        vertical-align: middle;\n",
              "    }\n",
              "\n",
              "    .dataframe tbody tr th {\n",
              "        vertical-align: top;\n",
              "    }\n",
              "\n",
              "    .dataframe thead th {\n",
              "        text-align: right;\n",
              "    }\n",
              "</style>\n",
              "<table border=\"1\" class=\"dataframe\">\n",
              "  <thead>\n",
              "    <tr style=\"text-align: right;\">\n",
              "      <th></th>\n",
              "      <th>id</th>\n",
              "      <th>case_num</th>\n",
              "      <th>pn_num</th>\n",
              "      <th>feature_num</th>\n",
              "      <th>feature_text</th>\n",
              "      <th>pn_history</th>\n",
              "    </tr>\n",
              "  </thead>\n",
              "  <tbody>\n",
              "    <tr>\n",
              "      <th>0</th>\n",
              "      <td>00016_000</td>\n",
              "      <td>0</td>\n",
              "      <td>16</td>\n",
              "      <td>0</td>\n",
              "      <td>Family-history-of-MI-OR-Family-history-of-myocardial-infarction</td>\n",
              "      <td>HPI: 17yo M presents with palpitations. Patient reports 3-4 months of intermittent episodes of \"heart beating/pounding out of my chest.\" 2 days ago during a soccer game had an episode, but this ti...</td>\n",
              "    </tr>\n",
              "    <tr>\n",
              "      <th>1</th>\n",
              "      <td>00016_001</td>\n",
              "      <td>0</td>\n",
              "      <td>16</td>\n",
              "      <td>1</td>\n",
              "      <td>Family-history-of-thyroid-disorder</td>\n",
              "      <td>HPI: 17yo M presents with palpitations. Patient reports 3-4 months of intermittent episodes of \"heart beating/pounding out of my chest.\" 2 days ago during a soccer game had an episode, but this ti...</td>\n",
              "    </tr>\n",
              "    <tr>\n",
              "      <th>2</th>\n",
              "      <td>00016_002</td>\n",
              "      <td>0</td>\n",
              "      <td>16</td>\n",
              "      <td>2</td>\n",
              "      <td>Chest-pressure</td>\n",
              "      <td>HPI: 17yo M presents with palpitations. Patient reports 3-4 months of intermittent episodes of \"heart beating/pounding out of my chest.\" 2 days ago during a soccer game had an episode, but this ti...</td>\n",
              "    </tr>\n",
              "    <tr>\n",
              "      <th>3</th>\n",
              "      <td>00016_003</td>\n",
              "      <td>0</td>\n",
              "      <td>16</td>\n",
              "      <td>3</td>\n",
              "      <td>Intermittent-symptoms</td>\n",
              "      <td>HPI: 17yo M presents with palpitations. Patient reports 3-4 months of intermittent episodes of \"heart beating/pounding out of my chest.\" 2 days ago during a soccer game had an episode, but this ti...</td>\n",
              "    </tr>\n",
              "    <tr>\n",
              "      <th>4</th>\n",
              "      <td>00016_004</td>\n",
              "      <td>0</td>\n",
              "      <td>16</td>\n",
              "      <td>4</td>\n",
              "      <td>Lightheaded</td>\n",
              "      <td>HPI: 17yo M presents with palpitations. Patient reports 3-4 months of intermittent episodes of \"heart beating/pounding out of my chest.\" 2 days ago during a soccer game had an episode, but this ti...</td>\n",
              "    </tr>\n",
              "  </tbody>\n",
              "</table>\n",
              "</div>\n",
              "      <button class=\"colab-df-convert\" onclick=\"convertToInteractive('df-a646805e-ab3a-428c-8281-bc4567098ad3')\"\n",
              "              title=\"Convert this dataframe to an interactive table.\"\n",
              "              style=\"display:none;\">\n",
              "        \n",
              "  <svg xmlns=\"http://www.w3.org/2000/svg\" height=\"24px\"viewBox=\"0 0 24 24\"\n",
              "       width=\"24px\">\n",
              "    <path d=\"M0 0h24v24H0V0z\" fill=\"none\"/>\n",
              "    <path d=\"M18.56 5.44l.94 2.06.94-2.06 2.06-.94-2.06-.94-.94-2.06-.94 2.06-2.06.94zm-11 1L8.5 8.5l.94-2.06 2.06-.94-2.06-.94L8.5 2.5l-.94 2.06-2.06.94zm10 10l.94 2.06.94-2.06 2.06-.94-2.06-.94-.94-2.06-.94 2.06-2.06.94z\"/><path d=\"M17.41 7.96l-1.37-1.37c-.4-.4-.92-.59-1.43-.59-.52 0-1.04.2-1.43.59L10.3 9.45l-7.72 7.72c-.78.78-.78 2.05 0 2.83L4 21.41c.39.39.9.59 1.41.59.51 0 1.02-.2 1.41-.59l7.78-7.78 2.81-2.81c.8-.78.8-2.07 0-2.86zM5.41 20L4 18.59l7.72-7.72 1.47 1.35L5.41 20z\"/>\n",
              "  </svg>\n",
              "      </button>\n",
              "      \n",
              "  <style>\n",
              "    .colab-df-container {\n",
              "      display:flex;\n",
              "      flex-wrap:wrap;\n",
              "      gap: 12px;\n",
              "    }\n",
              "\n",
              "    .colab-df-convert {\n",
              "      background-color: #E8F0FE;\n",
              "      border: none;\n",
              "      border-radius: 50%;\n",
              "      cursor: pointer;\n",
              "      display: none;\n",
              "      fill: #1967D2;\n",
              "      height: 32px;\n",
              "      padding: 0 0 0 0;\n",
              "      width: 32px;\n",
              "    }\n",
              "\n",
              "    .colab-df-convert:hover {\n",
              "      background-color: #E2EBFA;\n",
              "      box-shadow: 0px 1px 2px rgba(60, 64, 67, 0.3), 0px 1px 3px 1px rgba(60, 64, 67, 0.15);\n",
              "      fill: #174EA6;\n",
              "    }\n",
              "\n",
              "    [theme=dark] .colab-df-convert {\n",
              "      background-color: #3B4455;\n",
              "      fill: #D2E3FC;\n",
              "    }\n",
              "\n",
              "    [theme=dark] .colab-df-convert:hover {\n",
              "      background-color: #434B5C;\n",
              "      box-shadow: 0px 1px 3px 1px rgba(0, 0, 0, 0.15);\n",
              "      filter: drop-shadow(0px 1px 2px rgba(0, 0, 0, 0.3));\n",
              "      fill: #FFFFFF;\n",
              "    }\n",
              "  </style>\n",
              "\n",
              "      <script>\n",
              "        const buttonEl =\n",
              "          document.querySelector('#df-a646805e-ab3a-428c-8281-bc4567098ad3 button.colab-df-convert');\n",
              "        buttonEl.style.display =\n",
              "          google.colab.kernel.accessAllowed ? 'block' : 'none';\n",
              "\n",
              "        async function convertToInteractive(key) {\n",
              "          const element = document.querySelector('#df-a646805e-ab3a-428c-8281-bc4567098ad3');\n",
              "          const dataTable =\n",
              "            await google.colab.kernel.invokeFunction('convertToInteractive',\n",
              "                                                     [key], {});\n",
              "          if (!dataTable) return;\n",
              "\n",
              "          const docLinkHtml = 'Like what you see? Visit the ' +\n",
              "            '<a target=\"_blank\" href=https://colab.research.google.com/notebooks/data_table.ipynb>data table notebook</a>'\n",
              "            + ' to learn more about interactive tables.';\n",
              "          element.innerHTML = '';\n",
              "          dataTable['output_type'] = 'display_data';\n",
              "          await google.colab.output.renderOutput(dataTable, element);\n",
              "          const docLink = document.createElement('div');\n",
              "          docLink.innerHTML = docLinkHtml;\n",
              "          element.appendChild(docLink);\n",
              "        }\n",
              "      </script>\n",
              "    </div>\n",
              "  </div>\n",
              "  "
            ]
          },
          "metadata": {}
        }
      ]
    }
  ]
}